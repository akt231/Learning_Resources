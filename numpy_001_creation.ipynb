{
 "cells": [
  {
   "cell_type": "code",
   "execution_count": null,
   "metadata": {},
   "outputs": [],
   "source": [
    "import numpy as np"
   ]
  },
  {
   "cell_type": "markdown",
   "metadata": {},
   "source": [
    "# Numpy Creation"
   ]
  },
  {
   "cell_type": "markdown",
   "metadata": {},
   "source": [
    "Function:\n",
    "numpy.array\n",
    "numpy.array(object, dtype=None, *, copy=True, order='K', subok=False, ndmin=0, like=None)\n",
    "object: list, tuple, dictionary, another ndarray\n",
    "dtype: \n",
    "copy:\n",
    "order:\n",
    "subok:\n",
    "ndmin:\n",
    "like:"
   ]
  },
  {
   "cell_type": "markdown",
   "metadata": {},
   "source": [
    "**Create np.array examples**"
   ]
  },
  {
   "cell_type": "code",
   "execution_count": 4,
   "metadata": {},
   "outputs": [
    {
     "name": "stdout",
     "output_type": "stream",
     "text": [
      "<U6\n",
      "arr: [1. 2. 3. 4. 5. 6.]\n",
      "arr_input: [ 1  2  3  4  5 10]\n"
     ]
    }
   ],
   "source": [
    "import numpy as np\n",
    "\n",
    "#simple array creation\n",
    "arr = np.array(['apple', 'banana', 'cherry'])\n",
    "print(arr.dtype)\n",
    "\n",
    "\n",
    "lst = [1,2,3,4,5,6]\n",
    "arr_input = np.array([1, 2, 3, 4, 5, 6])\n",
    "arr = np.array(arr_input, dtype = float, copy = False,  )\n",
    "arr_input[5] = 10\n",
    "print(f'arr: {arr}')\n",
    "print(f'arr_input: {arr_input}')"
   ]
  },
  {
   "cell_type": "code",
   "execution_count": null,
   "metadata": {},
   "outputs": [],
   "source": []
  }
 ],
 "metadata": {
  "interpreter": {
   "hash": "056d9beeac5dda62eb58d7eceead7fa45564fb48fe5fc086bd70036b31cab7fb"
  },
  "kernelspec": {
   "display_name": "Python 3.10.1 64-bit",
   "language": "python",
   "name": "python3"
  },
  "language_info": {
   "codemirror_mode": {
    "name": "ipython",
    "version": 3
   },
   "file_extension": ".py",
   "mimetype": "text/x-python",
   "name": "python",
   "nbconvert_exporter": "python",
   "pygments_lexer": "ipython3",
   "version": "3.10.1"
  },
  "orig_nbformat": 4
 },
 "nbformat": 4,
 "nbformat_minor": 2
}
